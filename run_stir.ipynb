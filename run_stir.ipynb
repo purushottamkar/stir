{
 "cells": [
  {
   "cell_type": "code",
   "execution_count": 1,
   "metadata": {},
   "outputs": [],
   "source": [
    "from stir_lib import *\n",
    "import numpy as np\n",
    "\n",
    "\n",
    "from sklearn.model_selection import ShuffleSplit\n",
    "from sklearn.model_selection import GridSearchCV\n",
    "from sklearn.model_selection import RandomizedSearchCV"
   ]
  },
  {
   "cell_type": "code",
   "execution_count": 16,
   "metadata": {},
   "outputs": [],
   "source": [
    "n = 5000\n",
    "d = 10\n",
    "alpha  = 0.1\n",
    "\n",
    "n_corr  = int(alpha*n)\n",
    "\n",
    "Idx= np.random.permutation(n)\n",
    "corrIdx= Idx[0:n_corr]\n",
    "cleanIdx=Idx[n_corr:n]\n",
    "\n",
    "mu = 0\n",
    "sigma = 1\n",
    "X = np.random.normal(mu, sigma, (n, d))\n",
    "\n",
    "w_star= np.random.normal(0,1, (d, 1))\n",
    "w_star = w_star / np.linalg.norm(w_star)\n",
    "w_adv= np.random.normal(0,1, (d, 1))\n",
    "w_rand= np.random.normal(0,1, (d, 1))\n",
    "\n",
    "y=np.zeros(shape=(n,1))\n",
    "y[cleanIdx] = np.dot(X[cleanIdx,:], w_star)\n",
    "y[corrIdx] = np.dot(X[corrIdx,:], w_adv)"
   ]
  },
  {
   "cell_type": "code",
   "execution_count": 17,
   "metadata": {},
   "outputs": [
    {
     "name": "stdout",
     "output_type": "stream",
     "text": [
      "The best parameters for STIR are {'alpha': 0.1, 'eta': 2.3099999999999996} with a score of -0.01\n"
     ]
    }
   ],
   "source": [
    "#------------STIR-------------#\n",
    "eta_range = np.linspace( 1.01, 3.01, 21 )\n",
    "# STIR does not itself use alpha as a hyperparameter in the algorithm\n",
    "# but does need it to perform cross-validation since the validation sets\n",
    "# are also corrupted. To avoid an unfair comparison, We offer STIR a\n",
    "# handicap by giving it the true value of alpha\n",
    "alpha_range = np.linspace( alpha, alpha, 1 )\n",
    "\n",
    "param_grid = dict( eta = eta_range, alpha = alpha_range )\n",
    "cv = ShuffleSplit( n_splits = 5, test_size = 0.3, random_state = 42 )\n",
    "grid = GridSearchCV( STIR( w_init = w_adv), param_grid=param_grid, cv = cv, refit = False )\n",
    "grid.fit( X, y )\n",
    "\n",
    "best = grid.best_params_\n",
    "\n",
    "print(\"The best parameters for STIR are %s with a score of %0.2f\" % (grid.best_params_, grid.best_score_))"
   ]
  },
  {
   "cell_type": "code",
   "execution_count": 18,
   "metadata": {},
   "outputs": [],
   "source": [
    "stir = STIR( eta = best[\"eta\"], alpha = best[\"alpha\"], M_init = np.power(10, 1), w_init = w_adv )\n",
    "stir.fit( X, y, max_iter=400 )\n",
    "print(np.linalg.norm(stir.w-w_star,2))"
   ]
  },
  {
   "cell_type": "code",
   "execution_count": 20,
   "metadata": {},
   "outputs": [
    {
     "name": "stdout",
     "output_type": "stream",
     "text": [
      "6.81602854186227e-16\n"
     ]
    }
   ],
   "source": []
  },
  {
   "cell_type": "code",
   "execution_count": null,
   "metadata": {},
   "outputs": [],
   "source": []
  }
 ],
 "metadata": {
  "kernelspec": {
   "display_name": "Python 3",
   "language": "python",
   "name": "python3"
  },
  "language_info": {
   "codemirror_mode": {
    "name": "ipython",
    "version": 3
   },
   "file_extension": ".py",
   "mimetype": "text/x-python",
   "name": "python",
   "nbconvert_exporter": "python",
   "pygments_lexer": "ipython3",
   "version": "3.5.2"
  }
 },
 "nbformat": 4,
 "nbformat_minor": 4
}
